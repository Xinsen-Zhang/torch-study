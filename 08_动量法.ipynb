{
  "nbformat": 4,
  "nbformat_minor": 0,
  "metadata": {
    "colab": {
      "name": "08 动量法.ipynb",
      "version": "0.3.2",
      "provenance": [],
      "include_colab_link": true
    },
    "kernelspec": {
      "name": "python3",
      "display_name": "Python 3"
    },
    "accelerator": "GPU"
  },
  "cells": [
    {
      "cell_type": "markdown",
      "metadata": {
        "id": "view-in-github",
        "colab_type": "text"
      },
      "source": [
        "<a href=\"https://colab.research.google.com/github/Xinsen-Zhang/torch-study/blob/master/08_%E5%8A%A8%E9%87%8F%E6%B3%95.ipynb\" target=\"_parent\"><img src=\"https://colab.research.google.com/assets/colab-badge.svg\" alt=\"Open In Colab\"/></a>"
      ]
    },
    {
      "metadata": {
        "id": "Xn1Nvmz9s0Cv",
        "colab_type": "text"
      },
      "cell_type": "markdown",
      "source": [
        "# 动量法\n",
        "$$v_i = \\gamma v_{i-1} + \\eta \\nabla L(\\theta)$$\n",
        "$$\\theta_i = \\theta_{i-1} - v_i$$"
      ]
    },
    {
      "metadata": {
        "id": "Xm5e0CuxuysK",
        "colab_type": "code",
        "colab": {}
      },
      "cell_type": "code",
      "source": [
        "def sgd_momentum(parameters, vs, lr, gamma):\n",
        "    for param, v in zip(parameters, vs):\n",
        "        v[:] = gamma * v + lr * param.grad.data\n",
        "        param.data = param.data - v"
      ],
      "execution_count": 0,
      "outputs": []
    },
    {
      "metadata": {
        "id": "BsHVx04XvYg4",
        "colab_type": "code",
        "colab": {}
      },
      "cell_type": "code",
      "source": [
        "import numpy as np\n",
        "import torch\n",
        "from torchvision.datasets import  MNIST\n",
        "from torch.utils.data import DataLoader\n",
        "from torch import nn\n",
        "from torch.autograd import Variable\n",
        "import time\n",
        "from matplotlib import pyplot as plt\n",
        "%matplotlib inline\n",
        "\n",
        "def data_tf(x):\n",
        "    x = np.array(x, dtype= 'float32') / 255\n",
        "    x = (x - 0.5) / 0.5\n",
        "    x = x.reshape((-1,))\n",
        "    x = torch.from_numpy(x)\n",
        "    return x\n",
        "\n",
        "train_set = MNIST('./data', train=True, transform= data_tf, download= True)\n",
        "test_set = MNIST('./data', train= False, transform= data_tf, download=True)\n",
        "\n",
        "# 定义loss\n",
        "criterion = nn.CrossEntropyLoss()"
      ],
      "execution_count": 0,
      "outputs": []
    },
    {
      "metadata": {
        "id": "QSzQhg4VwnO9",
        "colab_type": "code",
        "colab": {}
      },
      "cell_type": "code",
      "source": [
        "train_data = DataLoader(train_set, batch_size= 64, shuffle= True)"
      ],
      "execution_count": 0,
      "outputs": []
    },
    {
      "metadata": {
        "id": "J6IJ60Vvw4wt",
        "colab_type": "code",
        "colab": {}
      },
      "cell_type": "code",
      "source": [
        "# 定义3层网络\n",
        "net = nn.Sequential(\n",
        "    nn.Linear(784, 200),\n",
        "    nn.ReLU(),\n",
        "    nn.Linear(200, 10)\n",
        ")\n",
        "\n",
        "# 将速度初始化为和参数形状相同的零向量\n",
        "vs = []\n",
        "for param in net.parameters():\n",
        "    vs.append(torch.zeros_like(param.data))"
      ],
      "execution_count": 0,
      "outputs": []
    },
    {
      "metadata": {
        "id": "93O2PYNczswx",
        "colab_type": "code",
        "colab": {}
      },
      "cell_type": "code",
      "source": [
        "# 将速度搬到 gpu 上\n",
        "for idx in range(len(vs)):\n",
        "    vs[idx] = vs[idx].cuda()"
      ],
      "execution_count": 0,
      "outputs": []
    },
    {
      "metadata": {
        "id": "N_abFRG5xWjR",
        "colab_type": "code",
        "colab": {
          "base_uri": "https://localhost:8080/",
          "height": 118
        },
        "outputId": "1726bbec-78c2-47ed-a092-442d027233d1"
      },
      "cell_type": "code",
      "source": [
        "# 开始训练\n",
        "losses = []\n",
        "\n",
        "# 将定义的网络复制到gpu上\n",
        "net.cuda()\n",
        "\n",
        "# 计时开始\n",
        "start = time.time()\n",
        "\n",
        "for e in range(5):\n",
        "    start_ = time.time()\n",
        "    train_loss = 0\n",
        "    for im, label in train_data:\n",
        "        im = Variable(im.float()).cuda()\n",
        "        label = Variable(label).cuda()\n",
        "        \n",
        "        # 前向传播\n",
        "        out = net(im)\n",
        "        loss = criterion(out, label)\n",
        "        \n",
        "        # 反向传播\n",
        "        net.zero_grad()\n",
        "        loss.backward()\n",
        "        sgd_momentum(net.parameters(), vs, 1e-2, 0.9)\n",
        "        \n",
        "        # 记录误差\n",
        "        train_loss += loss.data\n",
        "        losses.append(loss.data)\n",
        "        duration_ = time.time() - start_\n",
        "    print('epoch {}. Train Loss: {:.5f}, duration {:.2f}'.format(e+1, train_loss / len(train_data), duration_))\n",
        "end = time.time()\n",
        "duration = end - start\n",
        "print('使用时间: {:.5f}s'.format(duration))"
      ],
      "execution_count": 41,
      "outputs": [
        {
          "output_type": "stream",
          "text": [
            "epoch 1. Train Loss: 0.36400, duration 7.02\n",
            "epoch 2. Train Loss: 0.17144, duration 6.89\n",
            "epoch 3. Train Loss: 0.12465, duration 6.81\n",
            "epoch 4. Train Loss: 0.09985, duration 6.78\n",
            "epoch 5. Train Loss: 0.08346, duration 6.70\n",
            "使用时间: 34.20813s\n"
          ],
          "name": "stdout"
        }
      ]
    },
    {
      "metadata": {
        "id": "q2Dz7ylxxXIv",
        "colab_type": "text"
      },
      "cell_type": "markdown",
      "source": [
        "# 使用内置的动量优化器"
      ]
    },
    {
      "metadata": {
        "id": "vW3I_FlYz-Ep",
        "colab_type": "code",
        "colab": {
          "base_uri": "https://localhost:8080/",
          "height": 202
        },
        "outputId": "295c4830-1763-47f3-c08c-81764eedfd21"
      },
      "cell_type": "code",
      "source": [
        "train_data = DataLoader(train_set, batch_size= 64, shuffle= True)\n",
        "# 定义3层网络\n",
        "net = nn.Sequential(\n",
        "    nn.Linear(784, 200),\n",
        "    nn.ReLU(),\n",
        "    nn.Linear(200, 10)\n",
        ")\n",
        "optimizer = torch.optim.SGD(net.parameters(), lr= 1e-2, momentum= 0.9)\n",
        "# 开始训练\n",
        "losses = []\n",
        "\n",
        "# 将定义的网络复制到gpu上\n",
        "net.cuda()\n",
        "\n",
        "# 计时开始\n",
        "start = time.time()\n",
        "idx = 0\n",
        "for e in range(10):\n",
        "    start_ = time.time()\n",
        "    train_loss = 0\n",
        "    for im, label in train_data:\n",
        "        im = Variable(im.float()).cuda()\n",
        "        label = Variable(label).cuda()\n",
        "        \n",
        "        # 前向传播\n",
        "        out = net(im)\n",
        "        loss = criterion(out, label)\n",
        "        \n",
        "        # 反向传播\n",
        "        optimizer.zero_grad()\n",
        "        loss.backward()\n",
        "        optimizer.step()\n",
        "        \n",
        "        # 记录误差\n",
        "        train_loss += loss.data\n",
        "        if(idx % 30 == 0):\n",
        "            losses.append(loss.data)\n",
        "        idx += 1\n",
        "        duration_ = time.time() - start_\n",
        "    print('epoch {}. Train Loss: {:.5f}, duration {:.2f}'.format(e+1, train_loss / len(train_data), duration_))\n",
        "end = time.time()\n",
        "duration = end - start\n",
        "print('使用时间: {:.5f}s'.format(duration))"
      ],
      "execution_count": 45,
      "outputs": [
        {
          "output_type": "stream",
          "text": [
            "epoch 1. Train Loss: 0.37072, duration 6.39\n",
            "epoch 2. Train Loss: 0.17746, duration 6.19\n",
            "epoch 3. Train Loss: 0.13047, duration 6.20\n",
            "epoch 4. Train Loss: 0.10338, duration 6.20\n",
            "epoch 5. Train Loss: 0.08622, duration 6.19\n",
            "epoch 6. Train Loss: 0.07396, duration 6.20\n",
            "epoch 7. Train Loss: 0.06337, duration 6.18\n",
            "epoch 8. Train Loss: 0.05692, duration 6.18\n",
            "epoch 9. Train Loss: 0.05176, duration 6.21\n",
            "epoch 10. Train Loss: 0.04452, duration 6.23\n",
            "使用时间: 62.16754s\n"
          ],
          "name": "stdout"
        }
      ]
    },
    {
      "metadata": {
        "id": "-HIEHSGu1NwP",
        "colab_type": "code",
        "colab": {
          "base_uri": "https://localhost:8080/",
          "height": 282
        },
        "outputId": "4dbf6962-c54e-47fc-b458-6b26a00a8c5b"
      },
      "cell_type": "code",
      "source": [
        "x_axis = np.linspace(0, 10, len(losses), endpoint= True)\n",
        "plt.semilogy(x_axis, losses, label= 'momentum: 0.9')\n",
        "plt.legend(loc='best')"
      ],
      "execution_count": 46,
      "outputs": [
        {
          "output_type": "execute_result",
          "data": {
            "text/plain": [
              "<matplotlib.legend.Legend at 0x7fbb6d990fd0>"
            ]
          },
          "metadata": {
            "tags": []
          },
          "execution_count": 46
        },
        {
          "output_type": "display_data",
          "data": {
            "image/png": "[encoded data removed]",
            "text/plain": [
              "<Figure size 432x288 with 1 Axes>"
            ]
          },
          "metadata": {
            "tags": []
          }
        }
      ]
    },
    {
      "metadata": {
        "id": "7RgihW4d191W",
        "colab_type": "text"
      },
      "cell_type": "markdown",
      "source": [
        "## 不使用动量"
      ]
    },
    {
      "metadata": {
        "id": "swR8Y7ev2ofU",
        "colab_type": "code",
        "colab": {
          "base_uri": "https://localhost:8080/",
          "height": 202
        },
        "outputId": "1979abca-3fb7-4d37-b23a-523074b98f0a"
      },
      "cell_type": "code",
      "source": [
        "train_data = DataLoader(train_set, batch_size= 64, shuffle= True)\n",
        "# 定义3层网络\n",
        "net = nn.Sequential(\n",
        "    nn.Linear(784, 200),\n",
        "    nn.ReLU(),\n",
        "    nn.Linear(200, 10)\n",
        ")\n",
        "optimizer = torch.optim.SGD(net.parameters(), lr= 1e-2)\n",
        "# 开始训练\n",
        "losses2 = []\n",
        "\n",
        "# 将定义的网络复制到gpu上\n",
        "net.cuda()\n",
        "\n",
        "# 计时开始\n",
        "start = time.time()\n",
        "idx = 0\n",
        "for e in range(10):\n",
        "    start_ = time.time()\n",
        "    train_loss = 0\n",
        "    for im, label in train_data:\n",
        "        im = Variable(im.float()).cuda()\n",
        "        label = Variable(label).cuda()\n",
        "        \n",
        "        # 前向传播\n",
        "        out = net(im)\n",
        "        loss = criterion(out, label)\n",
        "        \n",
        "        # 反向传播\n",
        "        optimizer.zero_grad()\n",
        "        loss.backward()\n",
        "        optimizer.step()\n",
        "        \n",
        "        # 记录误差\n",
        "        train_loss += loss.data\n",
        "        if(idx % 30 == 0):\n",
        "            losses2.append(loss.data)\n",
        "        idx += 1\n",
        "        duration_ = time.time() - start_\n",
        "    print('epoch {}. Train Loss: {:.5f}, duration {:.2f}'.format(e+1, train_loss / len(train_data), duration_))\n",
        "end = time.time()\n",
        "duration = end - start\n",
        "print('使用时间: {:.5f}s'.format(duration))"
      ],
      "execution_count": 47,
      "outputs": [
        {
          "output_type": "stream",
          "text": [
            "epoch 1. Train Loss: 0.75112, duration 6.28\n",
            "epoch 2. Train Loss: 0.36520, duration 6.01\n",
            "epoch 3. Train Loss: 0.32093, duration 6.04\n",
            "epoch 4. Train Loss: 0.29452, duration 6.04\n",
            "epoch 5. Train Loss: 0.27370, duration 6.35\n",
            "epoch 6. Train Loss: 0.25465, duration 6.09\n",
            "epoch 7. Train Loss: 0.23590, duration 6.30\n",
            "epoch 8. Train Loss: 0.21927, duration 6.25\n",
            "epoch 9. Train Loss: 0.20425, duration 6.33\n",
            "epoch 10. Train Loss: 0.19101, duration 6.23\n",
            "使用时间: 61.92430s\n"
          ],
          "name": "stdout"
        }
      ]
    },
    {
      "metadata": {
        "id": "N5tj0CJ42uga",
        "colab_type": "code",
        "colab": {
          "base_uri": "https://localhost:8080/",
          "height": 282
        },
        "outputId": "8809ba48-36b2-4a37-cb8e-8771ff956128"
      },
      "cell_type": "code",
      "source": [
        "x_axis = np.linspace(0, 10, len(losses), endpoint= True)\n",
        "plt.semilogy(x_axis, losses, label= 'momentum: 0.9')\n",
        "plt.semilogy(x_axis, losses2, label= 'no momentum')\n",
        "plt.legend(loc='best')"
      ],
      "execution_count": 48,
      "outputs": [
        {
          "output_type": "execute_result",
          "data": {
            "text/plain": [
              "<matplotlib.legend.Legend at 0x7fbb69f9f940>"
            ]
          },
          "metadata": {
            "tags": []
          },
          "execution_count": 48
        },
        {
          "output_type": "display_data",
          "data": {
            "image/png": "[encoded data removed]",
            "text/plain": [
              "<Figure size 432x288 with 1 Axes>"
            ]
          },
          "metadata": {
            "tags": []
          }
        }
      ]
    },
    {
      "metadata": {
        "id": "_ZimyVss2-qE",
        "colab_type": "code",
        "colab": {}
      },
      "cell_type": "code",
      "source": [
        ""
      ],
      "execution_count": 0,
      "outputs": []
    }
  ]
}