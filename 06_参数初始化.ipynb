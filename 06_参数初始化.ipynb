{
  "nbformat": 4,
  "nbformat_minor": 0,
  "metadata": {
    "colab": {
      "name": "06 参数初始化.ipynb",
      "version": "0.3.2",
      "provenance": [],
      "include_colab_link": true
    },
    "kernelspec": {
      "name": "python3",
      "display_name": "Python 3"
    }
  },
  "cells": [
    {
      "cell_type": "markdown",
      "metadata": {
        "id": "view-in-github",
        "colab_type": "text"
      },
      "source": [
        "<a href=\"https://colab.research.google.com/github/Xinsen-Zhang/torch-study/blob/master/06_%E5%8F%82%E6%95%B0%E5%88%9D%E5%A7%8B%E5%8C%96.ipynb\" target=\"_parent\"><img src=\"https://colab.research.google.com/assets/colab-badge.svg\" alt=\"Open In Colab\"/></a>"
      ]
    },
    {
      "metadata": {
        "id": "dv_ylRvHN8Oj",
        "colab_type": "text"
      },
      "cell_type": "markdown",
      "source": [
        "# 参数初始化\n",
        "## 使用numpy 来进行初始化"
      ]
    },
    {
      "metadata": {
        "id": "1heurDbVOHch",
        "colab_type": "code",
        "colab": {}
      },
      "cell_type": "code",
      "source": [
        "import numpy as np\n",
        "from torch import nn\n",
        "import torch"
      ],
      "execution_count": 0,
      "outputs": []
    },
    {
      "metadata": {
        "id": "RF4ebLG2OLqq",
        "colab_type": "code",
        "colab": {}
      },
      "cell_type": "code",
      "source": [
        "# 定义一个Sequential 模型\n",
        "net = nn.Sequential(\n",
        "    nn.Linear(30, 40),\n",
        "    nn.ReLU(),\n",
        "    nn.Linear(40, 50),\n",
        "    nn.ReLU(),\n",
        "    nn.Linear(50, 10)\n",
        ")"
      ],
      "execution_count": 0,
      "outputs": []
    },
    {
      "metadata": {
        "id": "imPzwvHjOdZT",
        "colab_type": "code",
        "outputId": "c28d4d30-5fa4-42ae-bc3a-f7c57baf1aa1",
        "colab": {
          "base_uri": "https://localhost:8080/",
          "height": 168
        }
      },
      "cell_type": "code",
      "source": [
        "# 访问第一层的参数\n",
        "w = net[0].weight\n",
        "b = net[0].bias\n",
        "w"
      ],
      "execution_count": 0,
      "outputs": [
        {
          "output_type": "execute_result",
          "data": {
            "text/plain": [
              "Parameter containing:\n",
              "tensor([[-0.0268,  0.1415, -0.0282,  ...,  0.1673,  0.1451,  0.0021],\n",
              "        [-0.1532,  0.1785,  0.1576,  ..., -0.0034,  0.0799, -0.1583],\n",
              "        [ 0.1280, -0.0858, -0.0718,  ..., -0.0276, -0.1234,  0.0570],\n",
              "        ...,\n",
              "        [ 0.0993,  0.0550,  0.0195,  ...,  0.1647, -0.0602, -0.0076],\n",
              "        [-0.0036,  0.1045,  0.1380,  ..., -0.0491, -0.0052, -0.1135],\n",
              "        [-0.0563, -0.1181, -0.1406,  ..., -0.0420,  0.0672, -0.0190]],\n",
              "       requires_grad=True)"
            ]
          },
          "metadata": {
            "tags": []
          },
          "execution_count": 3
        }
      ]
    },
    {
      "metadata": {
        "id": "GKytwlR1PcSj",
        "colab_type": "code",
        "outputId": "5fff3e52-0bd5-43f8-818a-d311e3562226",
        "colab": {
          "base_uri": "https://localhost:8080/",
          "height": 134
        }
      },
      "cell_type": "code",
      "source": [
        "# 查看bias\n",
        "b"
      ],
      "execution_count": 0,
      "outputs": [
        {
          "output_type": "execute_result",
          "data": {
            "text/plain": [
              "Parameter containing:\n",
              "tensor([ 0.1319,  0.1057,  0.0205, -0.1668, -0.1257,  0.0357, -0.1138, -0.0904,\n",
              "        -0.0881,  0.0118,  0.1764,  0.1765, -0.0450, -0.0436,  0.0717, -0.1118,\n",
              "         0.0099, -0.0633, -0.1169, -0.0802,  0.0527, -0.1542, -0.0071,  0.0579,\n",
              "         0.0389,  0.0649,  0.0438,  0.0459, -0.1451,  0.0062, -0.1632, -0.0240,\n",
              "         0.0356, -0.0187,  0.0014, -0.1230,  0.0950, -0.0169,  0.0885,  0.1291],\n",
              "       requires_grad=True)"
            ]
          },
          "metadata": {
            "tags": []
          },
          "execution_count": 9
        }
      ]
    },
    {
      "metadata": {
        "id": "IOGN6gSaOmnq",
        "colab_type": "code",
        "colab": {}
      },
      "cell_type": "code",
      "source": [
        "w.data = torch.from_numpy(np.random.uniform(5, size= (30,40))).float()"
      ],
      "execution_count": 0,
      "outputs": []
    },
    {
      "metadata": {
        "id": "sdkLeDN0Ow6m",
        "colab_type": "code",
        "colab": {}
      },
      "cell_type": "code",
      "source": [
        "# 使用均值为0， 方差为 0.5 的随机数对线性层进行初始化\n",
        "for layer in net:\n",
        "    if(isinstance(layer, nn.Linear)):\n",
        "        param_shape = layer.weight.shape\n",
        "        layer.weight.data = torch.from_numpy(np.random.normal(0.0, 0.5, size = param_shape)).float()"
      ],
      "execution_count": 0,
      "outputs": []
    },
    {
      "metadata": {
        "id": "7-fleeDhO9fM",
        "colab_type": "code",
        "outputId": "344615ba-848f-415f-f31b-b90842a3f794",
        "colab": {
          "base_uri": "https://localhost:8080/",
          "height": 34
        }
      },
      "cell_type": "code",
      "source": [
        "param_shape"
      ],
      "execution_count": 0,
      "outputs": [
        {
          "output_type": "execute_result",
          "data": {
            "text/plain": [
              "torch.Size([30, 40])"
            ]
          },
          "metadata": {
            "tags": []
          },
          "execution_count": 12
        }
      ]
    },
    {
      "metadata": {
        "id": "36-I_DgPPrHH",
        "colab_type": "text"
      },
      "cell_type": "markdown",
      "source": [
        "## 模块的children 和 modules属性"
      ]
    },
    {
      "metadata": {
        "id": "aVVeJCFaQyXm",
        "colab_type": "code",
        "colab": {}
      },
      "cell_type": "code",
      "source": [
        "class sim_net(nn.Module):\n",
        "    def __init__(self):\n",
        "        super(sim_net,self).__init__()\n",
        "        # 第一层\n",
        "        self.l1 = nn.Sequential(\n",
        "            nn.Linear(30, 40),\n",
        "            nn.ReLU()\n",
        "        )\n",
        "        self.l1[0].weight.data = torch.randn(30, 40)\n",
        "        # 第二层\n",
        "        self.l2 = nn.Sequential(\n",
        "            nn.Linear(40, 50),\n",
        "            nn.ReLU()\n",
        "        )\n",
        "        self.l3 = nn.Sequential(\n",
        "            nn.Linear(50, 10),\n",
        "            nn.ReLU()\n",
        "        )\n",
        "    # forward\n",
        "    def forward(self, x):\n",
        "        x = self.l1(x)\n",
        "        x = self.l2(x)\n",
        "        x = self.l3(x)\n",
        "        return x"
      ],
      "execution_count": 0,
      "outputs": []
    },
    {
      "metadata": {
        "id": "WfVfqNfCRwkj",
        "colab_type": "code",
        "colab": {}
      },
      "cell_type": "code",
      "source": [
        "# 实例化对象\n",
        "net = sim_net()"
      ],
      "execution_count": 0,
      "outputs": []
    },
    {
      "metadata": {
        "id": "p7w25N7DRzpm",
        "colab_type": "text"
      },
      "cell_type": "markdown",
      "source": [
        "### childre 属性"
      ]
    },
    {
      "metadata": {
        "id": "PV4r5OAgR_a7",
        "colab_type": "code",
        "outputId": "ce66f0c5-9df8-4f79-ee6b-d427ab62d4be",
        "colab": {
          "base_uri": "https://localhost:8080/",
          "height": 218
        }
      },
      "cell_type": "code",
      "source": [
        "for i in net.children():\n",
        "    print(i)"
      ],
      "execution_count": 0,
      "outputs": [
        {
          "output_type": "stream",
          "text": [
            "Sequential(\n",
            "  (0): Linear(in_features=30, out_features=40, bias=True)\n",
            "  (1): ReLU()\n",
            ")\n",
            "Sequential(\n",
            "  (0): Linear(in_features=40, out_features=50, bias=True)\n",
            "  (1): ReLU()\n",
            ")\n",
            "Sequential(\n",
            "  (0): Linear(in_features=50, out_features=10, bias=True)\n",
            "  (1): ReLU()\n",
            ")\n"
          ],
          "name": "stdout"
        }
      ]
    },
    {
      "metadata": {
        "id": "lG1qIKL6SJkP",
        "colab_type": "text"
      },
      "cell_type": "markdown",
      "source": [
        "### modules 属性"
      ]
    },
    {
      "metadata": {
        "id": "Ar0PizHxSQ6F",
        "colab_type": "code",
        "outputId": "0a5844df-eed1-4617-98ad-8b52af62370a",
        "colab": {
          "base_uri": "https://localhost:8080/",
          "height": 722
        }
      },
      "cell_type": "code",
      "source": [
        "for i in net.modules():\n",
        "    print(i)\n",
        "    print('-' * 10)"
      ],
      "execution_count": 0,
      "outputs": [
        {
          "output_type": "stream",
          "text": [
            "sim_net(\n",
            "  (l1): Sequential(\n",
            "    (0): Linear(in_features=30, out_features=40, bias=True)\n",
            "    (1): ReLU()\n",
            "  )\n",
            "  (l2): Sequential(\n",
            "    (0): Linear(in_features=40, out_features=50, bias=True)\n",
            "    (1): ReLU()\n",
            "  )\n",
            "  (l3): Sequential(\n",
            "    (0): Linear(in_features=50, out_features=10, bias=True)\n",
            "    (1): ReLU()\n",
            "  )\n",
            ")\n",
            "----------\n",
            "Sequential(\n",
            "  (0): Linear(in_features=30, out_features=40, bias=True)\n",
            "  (1): ReLU()\n",
            ")\n",
            "----------\n",
            "Linear(in_features=30, out_features=40, bias=True)\n",
            "----------\n",
            "ReLU()\n",
            "----------\n",
            "Sequential(\n",
            "  (0): Linear(in_features=40, out_features=50, bias=True)\n",
            "  (1): ReLU()\n",
            ")\n",
            "----------\n",
            "Linear(in_features=40, out_features=50, bias=True)\n",
            "----------\n",
            "ReLU()\n",
            "----------\n",
            "Sequential(\n",
            "  (0): Linear(in_features=50, out_features=10, bias=True)\n",
            "  (1): ReLU()\n",
            ")\n",
            "----------\n",
            "Linear(in_features=50, out_features=10, bias=True)\n",
            "----------\n",
            "ReLU()\n",
            "----------\n"
          ],
          "name": "stdout"
        }
      ]
    },
    {
      "metadata": {
        "id": "5oUa7xVgSVMM",
        "colab_type": "text"
      },
      "cell_type": "markdown",
      "source": [
        "### 做到和Sequential相同的初始化"
      ]
    },
    {
      "metadata": {
        "id": "Yi1QAZ_8SkD-",
        "colab_type": "code",
        "colab": {}
      },
      "cell_type": "code",
      "source": [
        "for layer in net.modules():\n",
        "    if(isinstance(layer, nn.Linear)):\n",
        "        param_shape = layer.weight.shape\n",
        "        layer.weight.data = torch.from_numpy(np.random.normal(0, 0.5, size= param_shape)).float()"
      ],
      "execution_count": 0,
      "outputs": []
    },
    {
      "metadata": {
        "id": "n-D8D2sFSxKq",
        "colab_type": "text"
      },
      "cell_type": "markdown",
      "source": [
        "## 使用nn.init 进行初始化"
      ]
    },
    {
      "metadata": {
        "id": "ZrefhAAjTK1u",
        "colab_type": "code",
        "colab": {}
      },
      "cell_type": "code",
      "source": [
        "# 定义一个Sequential 模型\n",
        "net = nn.Sequential(\n",
        "    nn.Linear(30, 40),\n",
        "    nn.ReLU(),\n",
        "    nn.Linear(40, 50),\n",
        "    nn.ReLU(),\n",
        "    nn.Linear(50, 10)\n",
        ")"
      ],
      "execution_count": 0,
      "outputs": []
    },
    {
      "metadata": {
        "id": "4RSl13BRTOau",
        "colab_type": "code",
        "colab": {}
      },
      "cell_type": "code",
      "source": [
        "def show_layer1_weight(net):\n",
        "    layer = net[0]\n",
        "    print(layer.weight.data)"
      ],
      "execution_count": 0,
      "outputs": []
    },
    {
      "metadata": {
        "id": "Pt8schcsTk21",
        "colab_type": "code",
        "outputId": "13cb5d0d-3d27-4830-e2af-36a161f3d15d",
        "colab": {
          "base_uri": "https://localhost:8080/",
          "height": 134
        }
      },
      "cell_type": "code",
      "source": [
        "show_layer1_weight(net)"
      ],
      "execution_count": 0,
      "outputs": [
        {
          "output_type": "stream",
          "text": [
            "tensor([[-0.1179, -0.1249, -0.1570,  ...,  0.0865,  0.1321,  0.1274],\n",
            "        [-0.0028,  0.0153,  0.0756,  ...,  0.0731,  0.0931,  0.1412],\n",
            "        [-0.0337, -0.0081,  0.1360,  ...,  0.1670,  0.0336,  0.0642],\n",
            "        ...,\n",
            "        [ 0.1302,  0.1505, -0.0491,  ..., -0.0996, -0.0958,  0.1496],\n",
            "        [-0.0747, -0.1467,  0.0303,  ..., -0.0830, -0.0682, -0.1583],\n",
            "        [ 0.0900,  0.1189, -0.0640,  ...,  0.1602,  0.0683,  0.0845]])\n"
          ],
          "name": "stdout"
        }
      ]
    },
    {
      "metadata": {
        "id": "GabEfIEYTmdl",
        "colab_type": "code",
        "colab": {}
      },
      "cell_type": "code",
      "source": [
        "from torch.nn import init"
      ],
      "execution_count": 0,
      "outputs": []
    },
    {
      "metadata": {
        "id": "PWpD8SPnTtSU",
        "colab_type": "code",
        "outputId": "b4bbdf7a-7caf-4b00-a1cf-4c03bbafe309",
        "colab": {
          "base_uri": "https://localhost:8080/",
          "height": 202
        }
      },
      "cell_type": "code",
      "source": [
        "init.xavier_uniform(net[0].weight)"
      ],
      "execution_count": 0,
      "outputs": [
        {
          "output_type": "stream",
          "text": [
            "/usr/local/lib/python3.6/dist-packages/ipykernel_launcher.py:1: UserWarning: nn.init.xavier_uniform is now deprecated in favor of nn.init.xavier_uniform_.\n",
            "  \"\"\"Entry point for launching an IPython kernel.\n"
          ],
          "name": "stderr"
        },
        {
          "output_type": "execute_result",
          "data": {
            "text/plain": [
              "Parameter containing:\n",
              "tensor([[ 0.1556,  0.2491, -0.2216,  ..., -0.2683, -0.2462,  0.0542],\n",
              "        [ 0.1898, -0.1853, -0.1136,  ...,  0.1802,  0.1790,  0.2750],\n",
              "        [-0.1759,  0.1154, -0.1481,  ...,  0.1774,  0.2898,  0.0716],\n",
              "        ...,\n",
              "        [ 0.0311,  0.0592, -0.1929,  ..., -0.0719,  0.1532, -0.1360],\n",
              "        [ 0.2500,  0.0261,  0.0246,  ...,  0.1088, -0.0410, -0.2483],\n",
              "        [-0.0355, -0.0696, -0.0105,  ..., -0.0314,  0.2350,  0.1622]],\n",
              "       requires_grad=True)"
            ]
          },
          "metadata": {
            "tags": []
          },
          "execution_count": 36
        }
      ]
    },
    {
      "metadata": {
        "id": "TDxXWF1tT5gH",
        "colab_type": "text"
      },
      "cell_type": "markdown",
      "source": [
        "## Xavier 初始化方法能够使每一层的输出方差尽可能相等\n",
        "$$w - Uniform[-\\frac{\\sqrt{6}}{\\sqrt{n_j + n_{j + 1}}}, \\frac{\\sqrt{6}}{\\sqrt{n_j + n_{j + 1}}}]$$"
      ]
    },
    {
      "metadata": {
        "id": "xXcmBjRyVSHH",
        "colab_type": "code",
        "colab": {}
      },
      "cell_type": "code",
      "source": [
        ""
      ],
      "execution_count": 0,
      "outputs": []
    }
  ]
}