{
  "nbformat": 4,
  "nbformat_minor": 0,
  "metadata": {
    "colab": {
      "name": "07 随机梯度下降.ipynb",
      "version": "0.3.2",
      "provenance": [],
      "include_colab_link": true
    },
    "kernelspec": {
      "name": "python3",
      "display_name": "Python 3"
    },
    "accelerator": "GPU"
  },
  "cells": [
    {
      "cell_type": "markdown",
      "metadata": {
        "id": "view-in-github",
        "colab_type": "text"
      },
      "source": [
        "<a href=\"https://colab.research.google.com/github/Xinsen-Zhang/torch-study/blob/master/07_%E9%9A%8F%E6%9C%BA%E6%A2%AF%E5%BA%A6%E4%B8%8B%E9%99%8D.ipynb\" target=\"_parent\"><img src=\"https://colab.research.google.com/assets/colab-badge.svg\" alt=\"Open In Colab\"/></a>"
      ]
    },
    {
      "metadata": {
        "id": "5D3hV0WUX-Bn",
        "colab_type": "text"
      },
      "cell_type": "markdown",
      "source": [
        "# 倒包"
      ]
    },
    {
      "metadata": {
        "id": "WUxEBLcLYE4P",
        "colab_type": "code",
        "colab": {}
      },
      "cell_type": "code",
      "source": [
        "import numpy as np\n",
        "import torch\n",
        "from torchvision.datasets import mnist\n",
        "from torch.utils.data import DataLoader\n",
        "from torch import nn\n",
        "from torch.autograd import Variable\n",
        "from matplotlib import pyplot as plt\n",
        "import time\n",
        "%matplotlib inline"
      ],
      "execution_count": 0,
      "outputs": []
    },
    {
      "metadata": {
        "id": "A4VehXkNYj3U",
        "colab_type": "code",
        "colab": {}
      },
      "cell_type": "code",
      "source": [
        "def data_tf(x):\n",
        "    x = np.array(x, dtype = 'float32') / 255\n",
        "    x = (x - 0.5) / 0.5\n",
        "    x = x.reshape((-1,))\n",
        "    x = torch.from_numpy(x)\n",
        "    return x"
      ],
      "execution_count": 0,
      "outputs": []
    },
    {
      "metadata": {
        "id": "taYBnMzMY9B0",
        "colab_type": "code",
        "colab": {}
      },
      "cell_type": "code",
      "source": [
        "train_set = mnist.MNIST('./data', train= True, transform=data_tf, download= True)\n",
        "test_set = mnist.MNIST('./data', train= False, transform=data_tf, download= True)"
      ],
      "execution_count": 0,
      "outputs": []
    },
    {
      "metadata": {
        "id": "BmCm3RdbZOQE",
        "colab_type": "code",
        "colab": {}
      },
      "cell_type": "code",
      "source": [
        "criterion = nn.CrossEntropyLoss()"
      ],
      "execution_count": 0,
      "outputs": []
    },
    {
      "metadata": {
        "id": "h2Di6Y-vZXYR",
        "colab_type": "code",
        "colab": {}
      },
      "cell_type": "code",
      "source": [
        "def sgd_update(parameters, lr):\n",
        "    for param in parameters:\n",
        "        param.data = param.data - lr * param.grad.data"
      ],
      "execution_count": 0,
      "outputs": []
    },
    {
      "metadata": {
        "id": "NfV-BkE_Zi0O",
        "colab_type": "text"
      },
      "cell_type": "markdown",
      "source": [
        "# 测试（设置batch size=1）"
      ]
    },
    {
      "metadata": {
        "id": "PEQ-VBiiZphr",
        "colab_type": "code",
        "colab": {}
      },
      "cell_type": "code",
      "source": [
        "train_data = DataLoader(train_set, batch_size= 1, shuffle= True)"
      ],
      "execution_count": 0,
      "outputs": []
    },
    {
      "metadata": {
        "id": "gKbLbXsnZwea",
        "colab_type": "code",
        "colab": {
          "base_uri": "https://localhost:8080/",
          "height": 168
        },
        "outputId": "951317fa-891b-411b-e9d2-159f1193a79f"
      },
      "cell_type": "code",
      "source": [
        "# 使用Sequential定义网络\n",
        "net = nn.Sequential(\n",
        "    nn.Linear(784, 200),\n",
        "    nn.ReLU(),\n",
        "    nn.Linear(200, 10),\n",
        ")\n",
        "\n",
        "# 参数初始化\n",
        "from torch.nn import init\n",
        "init.xavier_uniform_(net[0].weight)\n",
        "init.xavier_uniform_(net[-1].weight)"
      ],
      "execution_count": 7,
      "outputs": [
        {
          "output_type": "execute_result",
          "data": {
            "text/plain": [
              "Parameter containing:\n",
              "tensor([[ 0.0036, -0.0318,  0.0458,  ...,  0.0238,  0.1594, -0.1484],\n",
              "        [-0.0983, -0.1088,  0.0671,  ...,  0.1463, -0.0022, -0.0773],\n",
              "        [ 0.0404, -0.0416, -0.1073,  ..., -0.1170,  0.0232, -0.0903],\n",
              "        ...,\n",
              "        [ 0.0520, -0.0973,  0.1119,  ..., -0.0141, -0.1348, -0.0256],\n",
              "        [-0.0531, -0.0003,  0.0245,  ...,  0.1068, -0.0382,  0.0430],\n",
              "        [-0.1029, -0.1350,  0.0047,  ...,  0.0728,  0.1151,  0.1025]],\n",
              "       requires_grad=True)"
            ]
          },
          "metadata": {
            "tags": []
          },
          "execution_count": 7
        }
      ]
    },
    {
      "metadata": {
        "id": "UGpFIOSYaDtw",
        "colab_type": "code",
        "colab": {
          "base_uri": "https://localhost:8080/",
          "height": 202
        },
        "outputId": "cb6f8c47-a9f7-44fe-88f6-72a7e845ee07"
      },
      "cell_type": "code",
      "source": [
        "# 开始训练\n",
        "losses1 = []\n",
        "idx = 0\n",
        "\n",
        "# 将网络放到gpu上\n",
        "net.cuda()\n",
        "\n",
        "start = time.time()\n",
        "for e in range(10):\n",
        "    train_loss = 0\n",
        "    for im, label in train_data:\n",
        "        im = Variable(im.float()).cuda()\n",
        "        label = Variable(label).cuda()\n",
        "        # 前向传播\n",
        "        out = net(im)\n",
        "        loss = criterion(out, label)\n",
        "        # 反向传播\n",
        "        net.zero_grad()\n",
        "        loss.backward()\n",
        "        sgd_update(net.parameters(), lr= 1e-2)\n",
        "        # 记录误差\n",
        "        train_loss += loss.data\n",
        "        if(idx % 30 == 0):\n",
        "            losses1.append(loss.data)\n",
        "        idx += 1\n",
        "    print('epoch {}, Train loss: {:.6f}'.format(e + 1, train_loss / len(train_data)))\n",
        "end = time.time() # 计时结束\n",
        "print('使用时间:{:.5f}'.format(end - start))"
      ],
      "execution_count": 10,
      "outputs": [
        {
          "output_type": "stream",
          "text": [
            "epoch 1, Train loss: 0.355373\n",
            "epoch 2, Train loss: 0.214861\n",
            "epoch 3, Train loss: 0.186281\n",
            "epoch 4, Train loss: 0.167360\n",
            "epoch 5, Train loss: 0.155627\n",
            "epoch 6, Train loss: 0.141930\n",
            "epoch 7, Train loss: 0.137071\n",
            "epoch 8, Train loss: 0.134805\n",
            "epoch 9, Train loss: 0.125729\n",
            "epoch 10, Train loss: 0.117885\n",
            "使用时间:1025.45024\n"
          ],
          "name": "stdout"
        }
      ]
    },
    {
      "metadata": {
        "id": "NmMsfak0aZk9",
        "colab_type": "code",
        "colab": {
          "base_uri": "https://localhost:8080/",
          "height": 282
        },
        "outputId": "be6b89b9-3e6a-4510-979e-8daa8a897029"
      },
      "cell_type": "code",
      "source": [
        "x_axis = np.linspace(0, 10, len(losses1),endpoint= True)\n",
        "plt.semilogy(x_axis, losses1, label = 'batch size 1')\n",
        "plt.legend(loc = 'best')"
      ],
      "execution_count": 11,
      "outputs": [
        {
          "output_type": "execute_result",
          "data": {
            "text/plain": [
              "<matplotlib.legend.Legend at 0x7f1fdbec54e0>"
            ]
          },
          "metadata": {
            "tags": []
          },
          "execution_count": 11
        },
        {
          "output_type": "display_data",
          "data": {
            "image/png": "[encoded data removed]",
            "text/plain": [
              "<Figure size 432x288 with 1 Axes>"
            ]
          },
          "metadata": {
            "tags": []
          }
        }
      ]
    },
    {
      "metadata": {
        "id": "uQmD7uvFgx-s",
        "colab_type": "text"
      },
      "cell_type": "markdown",
      "source": [
        "# batch size = 64"
      ]
    },
    {
      "metadata": {
        "id": "JB2-kvkfg7N3",
        "colab_type": "code",
        "colab": {
          "base_uri": "https://localhost:8080/",
          "height": 202
        },
        "outputId": "bb1b1cb9-dbe7-45a3-f52f-670f953984cc"
      },
      "cell_type": "code",
      "source": [
        "train_data = DataLoader(train_set, batch_size= 64, shuffle= True)\n",
        "# 使用Sequential定义网络\n",
        "net = nn.Sequential(\n",
        "    nn.Linear(784, 200),\n",
        "    nn.ReLU(),\n",
        "    nn.Linear(200, 10),\n",
        ")\n",
        "\n",
        "# 参数初始化\n",
        "from torch.nn import init\n",
        "init.xavier_uniform_(net[0].weight)\n",
        "init.xavier_uniform_(net[-1].weight)\n",
        "# 开始训练\n",
        "losses2 = []\n",
        "idx = 0\n",
        "\n",
        "# 将网络放到gpu上\n",
        "net.cuda()\n",
        "\n",
        "start = time.time()\n",
        "for e in range(10):\n",
        "    train_loss = 0\n",
        "    for im, label in train_data:\n",
        "        im = Variable(im.float()).cuda()\n",
        "        label = Variable(label).cuda()\n",
        "        # 前向传播\n",
        "        out = net(im)\n",
        "        loss = criterion(out, label)\n",
        "        # 反向传播\n",
        "        net.zero_grad()\n",
        "        loss.backward()\n",
        "        sgd_update(net.parameters(), lr= 1e-2)\n",
        "        # 记录误差\n",
        "        train_loss += loss.data\n",
        "        if(idx % 30 == 0):\n",
        "            losses2.append(loss.data)\n",
        "        idx += 1\n",
        "    print('epoch {}, Train loss: {:.6f}'.format(e + 1, train_loss / len(train_data)))\n",
        "end = time.time() # 计时结束\n",
        "print('使用时间:{:.5f}'.format(end - start))"
      ],
      "execution_count": 12,
      "outputs": [
        {
          "output_type": "stream",
          "text": [
            "epoch 1, Train loss: 0.551549\n",
            "epoch 2, Train loss: 0.320033\n",
            "epoch 3, Train loss: 0.277003\n",
            "epoch 4, Train loss: 0.248840\n",
            "epoch 5, Train loss: 0.226882\n",
            "epoch 6, Train loss: 0.208603\n",
            "epoch 7, Train loss: 0.193541\n",
            "epoch 8, Train loss: 0.180230\n",
            "epoch 9, Train loss: 0.168580\n",
            "epoch 10, Train loss: 0.158874\n",
            "使用时间:70.31535\n"
          ],
          "name": "stdout"
        }
      ]
    },
    {
      "metadata": {
        "id": "ffejqAonhGJu",
        "colab_type": "code",
        "colab": {
          "base_uri": "https://localhost:8080/",
          "height": 282
        },
        "outputId": "892927e3-947e-46a4-a123-c1eef19246aa"
      },
      "cell_type": "code",
      "source": [
        "x_axis = np.linspace(0, 10, len(losses2),endpoint= True)\n",
        "plt.semilogy(x_axis, losses2, label = 'batch size 64')\n",
        "plt.legend(loc = 'best')"
      ],
      "execution_count": 15,
      "outputs": [
        {
          "output_type": "execute_result",
          "data": {
            "text/plain": [
              "<matplotlib.legend.Legend at 0x7f1f973f09e8>"
            ]
          },
          "metadata": {
            "tags": []
          },
          "execution_count": 15
        },
        {
          "output_type": "display_data",
          "data": {
            "image/png": "[encoded data removed]",
            "text/plain": [
              "<Figure size 432x288 with 1 Axes>"
            ]
          },
          "metadata": {
            "tags": []
          }
        }
      ]
    },
    {
      "metadata": {
        "id": "tlLc58OLhZU2",
        "colab_type": "text"
      },
      "cell_type": "markdown",
      "source": [
        "# lr = 0.1"
      ]
    },
    {
      "metadata": {
        "id": "dTJ9Bhqkhoj0",
        "colab_type": "code",
        "colab": {
          "base_uri": "https://localhost:8080/",
          "height": 202
        },
        "outputId": "78c3513d-1fa8-4d68-ee82-53ca6554d108"
      },
      "cell_type": "code",
      "source": [
        "train_data = DataLoader(train_set, batch_size= 64, shuffle= True)\n",
        "# 使用Sequential定义网络\n",
        "net = nn.Sequential(\n",
        "    nn.Linear(784, 200),\n",
        "    nn.ReLU(),\n",
        "    nn.Linear(200, 10),\n",
        ")\n",
        "\n",
        "# 参数初始化\n",
        "from torch.nn import init\n",
        "init.xavier_uniform_(net[0].weight)\n",
        "init.xavier_uniform_(net[-1].weight)\n",
        "# 开始训练\n",
        "losses3 = []\n",
        "idx = 0\n",
        "\n",
        "# 将网络放到gpu上\n",
        "net.cuda()\n",
        "\n",
        "start = time.time()\n",
        "for e in range(10):\n",
        "    train_loss = 0\n",
        "    for im, label in train_data:\n",
        "        im = Variable(im.float()).cuda()\n",
        "        label = Variable(label).cuda()\n",
        "        # 前向传播\n",
        "        out = net(im)\n",
        "        loss = criterion(out, label)\n",
        "        # 反向传播\n",
        "        net.zero_grad()\n",
        "        loss.backward()\n",
        "        sgd_update(net.parameters(), lr= 1e-1)\n",
        "        # 记录误差\n",
        "        train_loss += loss.data\n",
        "        if(idx % 30 == 0):\n",
        "            losses3.append(loss.data)\n",
        "        idx += 1\n",
        "    print('epoch {}, Train loss: {:.6f}'.format(e + 1, train_loss / len(train_data)))\n",
        "end = time.time() # 计时结束\n",
        "print('使用时间:{:.5f}'.format(end - start))"
      ],
      "execution_count": 16,
      "outputs": [
        {
          "output_type": "stream",
          "text": [
            "epoch 1, Train loss: 0.397929\n",
            "epoch 2, Train loss: 0.171499\n",
            "epoch 3, Train loss: 0.126462\n",
            "epoch 4, Train loss: 0.104696\n",
            "epoch 5, Train loss: 0.089600\n",
            "epoch 6, Train loss: 0.078810\n",
            "epoch 7, Train loss: 0.069714\n",
            "epoch 8, Train loss: 0.062347\n",
            "epoch 9, Train loss: 0.055724\n",
            "epoch 10, Train loss: 0.050650\n",
            "使用时间:65.16265\n"
          ],
          "name": "stdout"
        }
      ]
    },
    {
      "metadata": {
        "id": "LSVUKb6Nhs0b",
        "colab_type": "code",
        "colab": {
          "base_uri": "https://localhost:8080/",
          "height": 282
        },
        "outputId": "4076ae16-3a18-426a-f20e-fad9a24368ca"
      },
      "cell_type": "code",
      "source": [
        "x_axis = np.linspace(0, 10, len(losses3),endpoint= True)\n",
        "plt.semilogy(x_axis, losses3, label = 'batch size 64, lr 0.1')\n",
        "plt.legend(loc = 'best')"
      ],
      "execution_count": 17,
      "outputs": [
        {
          "output_type": "execute_result",
          "data": {
            "text/plain": [
              "<matplotlib.legend.Legend at 0x7f1f9731ae10>"
            ]
          },
          "metadata": {
            "tags": []
          },
          "execution_count": 17
        },
        {
          "output_type": "display_data",
          "data": {
            "image/png": "[encoded data removed]",
            "text/plain": [
              "<Figure size 432x288 with 1 Axes>"
            ]
          },
          "metadata": {
            "tags": []
          }
        }
      ]
    },
    {
      "metadata": {
        "id": "tFlPJjjkh9iW",
        "colab_type": "text"
      },
      "cell_type": "markdown",
      "source": [
        "# lr = 1.0"
      ]
    },
    {
      "metadata": {
        "id": "rSztFehdiFn1",
        "colab_type": "code",
        "colab": {
          "base_uri": "https://localhost:8080/",
          "height": 202
        },
        "outputId": "7fd72540-7133-4eb4-ba41-55aab06aa210"
      },
      "cell_type": "code",
      "source": [
        "train_data = DataLoader(train_set, batch_size= 64, shuffle= True)\n",
        "# 使用Sequential定义网络\n",
        "net = nn.Sequential(\n",
        "    nn.Linear(784, 200),\n",
        "    nn.ReLU(),\n",
        "    nn.Linear(200, 10),\n",
        ")\n",
        "\n",
        "# 参数初始化\n",
        "from torch.nn import init\n",
        "init.xavier_uniform_(net[0].weight)\n",
        "init.xavier_uniform_(net[-1].weight)\n",
        "# 开始训练\n",
        "losses4 = []\n",
        "idx = 0\n",
        "\n",
        "# 将网络放到gpu上\n",
        "net.cuda()\n",
        "\n",
        "start = time.time()\n",
        "for e in range(10):\n",
        "    train_loss = 0\n",
        "    for im, label in train_data:\n",
        "        im = Variable(im.float()).cuda()\n",
        "        label = Variable(label).cuda()\n",
        "        # 前向传播\n",
        "        out = net(im)\n",
        "        loss = criterion(out, label)\n",
        "        # 反向传播\n",
        "        net.zero_grad()\n",
        "        loss.backward()\n",
        "        sgd_update(net.parameters(), lr= 1e-1)\n",
        "        # 记录误差\n",
        "        train_loss += loss.data\n",
        "        if(idx % 30 == 0):\n",
        "            losses4.append(loss.data)\n",
        "        idx += 1\n",
        "    print('epoch {}, Train loss: {:.6f}'.format(e + 1, train_loss / len(train_data)))\n",
        "end = time.time() # 计时结束\n",
        "print('使用时间:{:.5f}'.format(end - start))"
      ],
      "execution_count": 18,
      "outputs": [
        {
          "output_type": "stream",
          "text": [
            "epoch 1, Train loss: 0.435972\n",
            "epoch 2, Train loss: 0.184192\n",
            "epoch 3, Train loss: 0.140594\n",
            "epoch 4, Train loss: 0.116172\n",
            "epoch 5, Train loss: 0.099557\n",
            "epoch 6, Train loss: 0.087597\n",
            "epoch 7, Train loss: 0.079368\n",
            "epoch 8, Train loss: 0.071338\n",
            "epoch 9, Train loss: 0.064080\n",
            "epoch 10, Train loss: 0.058728\n",
            "使用时间:64.77589\n"
          ],
          "name": "stdout"
        }
      ]
    },
    {
      "metadata": {
        "id": "qnM_ZDffiJJL",
        "colab_type": "code",
        "colab": {
          "base_uri": "https://localhost:8080/",
          "height": 282
        },
        "outputId": "55c877ec-0253-4a0c-fa8d-7ee6399ad068"
      },
      "cell_type": "code",
      "source": [
        "x_axis = np.linspace(0, 10, len(losses3),endpoint= True)\n",
        "plt.semilogy(x_axis, losses3, label = 'batch size 64, lr 1.0')\n",
        "plt.legend(loc = 'best')"
      ],
      "execution_count": 22,
      "outputs": [
        {
          "output_type": "execute_result",
          "data": {
            "text/plain": [
              "<matplotlib.legend.Legend at 0x7f1f96ef6cc0>"
            ]
          },
          "metadata": {
            "tags": []
          },
          "execution_count": 22
        },
        {
          "output_type": "display_data",
          "data": {
            "image/png": "[encoded data removed]",
            "text/plain": [
              "<Figure size 432x288 with 1 Axes>"
            ]
          },
          "metadata": {
            "tags": []
          }
        }
      ]
    },
    {
      "metadata": {
        "id": "zscnr-ToiZ__",
        "colab_type": "text"
      },
      "cell_type": "markdown",
      "source": [
        "# 使用PtTorch自带的随机梯度下降优化器"
      ]
    },
    {
      "metadata": {
        "id": "Df_iCapvkDUd",
        "colab_type": "code",
        "colab": {
          "base_uri": "https://localhost:8080/",
          "height": 538
        },
        "outputId": "131612fd-6eb6-472d-8585-4daaa5ecd334"
      },
      "cell_type": "code",
      "source": [
        "train_data = DataLoader(train_set, batch_size= 64, shuffle= True)\n",
        "# 使用Sequential定义网络\n",
        "net = nn.Sequential(\n",
        "    nn.Linear(784, 200),\n",
        "    nn.ReLU(),\n",
        "    nn.Linear(200, 10),\n",
        ")\n",
        "\n",
        "# 参数初始化\n",
        "from torch.nn import init\n",
        "init.xavier_uniform_(net[0].weight)\n",
        "init.xavier_uniform_(net[-1].weight)\n",
        "\n",
        "# 定义优化器\n",
        "optimizer = torch.optim.SGD(net.parameters(), lr= 1e-2)\n",
        "\n",
        "# 开始训练\n",
        "losses5 = []\n",
        "idx = 0\n",
        "\n",
        "# 将网络放到gpu上\n",
        "net.cuda()\n",
        "\n",
        "start = time.time()\n",
        "for e in range(30):\n",
        "    train_loss = 0\n",
        "    for im, label in train_data:\n",
        "        im = Variable(im.float()).cuda()\n",
        "        label = Variable(label).cuda()\n",
        "        # 前向传播\n",
        "        out = net(im)\n",
        "        loss = criterion(out, label)\n",
        "        # 反向传播\n",
        "        optimizer.zero_grad()\n",
        "        loss.backward()\n",
        "        optimizer.step()\n",
        "        # 记录误差\n",
        "        train_loss += loss.data\n",
        "        if(idx % 30 == 0):\n",
        "            losses5.append(loss.data)\n",
        "        idx += 1\n",
        "    print('epoch {}, Train loss: {:.6f}'.format(e + 1, train_loss / len(train_data)))\n",
        "end = time.time() # 计时结束\n",
        "print('使用时间:{:.5f}'.format(end - start))"
      ],
      "execution_count": 24,
      "outputs": [
        {
          "output_type": "stream",
          "text": [
            "epoch 1, Train loss: 0.555837\n",
            "epoch 2, Train loss: 0.328821\n",
            "epoch 3, Train loss: 0.286672\n",
            "epoch 4, Train loss: 0.257927\n",
            "epoch 5, Train loss: 0.234338\n",
            "epoch 6, Train loss: 0.214756\n",
            "epoch 7, Train loss: 0.197987\n",
            "epoch 8, Train loss: 0.183665\n",
            "epoch 9, Train loss: 0.171157\n",
            "epoch 10, Train loss: 0.159980\n",
            "epoch 11, Train loss: 0.150015\n",
            "epoch 12, Train loss: 0.141872\n",
            "epoch 13, Train loss: 0.134576\n",
            "epoch 14, Train loss: 0.127685\n",
            "epoch 15, Train loss: 0.121573\n",
            "epoch 16, Train loss: 0.116200\n",
            "epoch 17, Train loss: 0.111307\n",
            "epoch 18, Train loss: 0.106892\n",
            "epoch 19, Train loss: 0.102593\n",
            "epoch 20, Train loss: 0.098523\n",
            "epoch 21, Train loss: 0.095210\n",
            "epoch 22, Train loss: 0.091578\n",
            "epoch 23, Train loss: 0.088373\n",
            "epoch 24, Train loss: 0.085488\n",
            "epoch 25, Train loss: 0.082825\n",
            "epoch 26, Train loss: 0.080122\n",
            "epoch 27, Train loss: 0.077709\n",
            "epoch 28, Train loss: 0.075521\n",
            "epoch 29, Train loss: 0.073266\n",
            "epoch 30, Train loss: 0.071128\n",
            "使用时间:190.04895\n"
          ],
          "name": "stdout"
        }
      ]
    },
    {
      "metadata": {
        "id": "y7Kqb3NPkXS9",
        "colab_type": "code",
        "colab": {
          "base_uri": "https://localhost:8080/",
          "height": 297
        },
        "outputId": "bcefc475-a43e-471a-8e7f-2c6f64c9d632"
      },
      "cell_type": "code",
      "source": [
        "x_axis = np.linspace(0, 30, len(losses5),endpoint= True)\n",
        "plt.semilogy(x_axis, losses5, label = 'batch size 64, lr 0.01')\n",
        "plt.title('SGD')\n",
        "plt.legend(loc = 'best')"
      ],
      "execution_count": 25,
      "outputs": [
        {
          "output_type": "execute_result",
          "data": {
            "text/plain": [
              "<matplotlib.legend.Legend at 0x7f1f97384860>"
            ]
          },
          "metadata": {
            "tags": []
          },
          "execution_count": 25
        },
        {
          "output_type": "display_data",
          "data": {
            "image/png": "[encoded data removed]",
            "text/plain": [
              "<Figure size 432x288 with 1 Axes>"
            ]
          },
          "metadata": {
            "tags": []
          }
        }
      ]
    },
    {
      "metadata": {
        "id": "ZlQLkOgWk49b",
        "colab_type": "code",
        "colab": {}
      },
      "cell_type": "code",
      "source": [
        ""
      ],
      "execution_count": 0,
      "outputs": []
    }
  ]
}