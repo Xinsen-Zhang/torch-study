{
  "nbformat": 4,
  "nbformat_minor": 0,
  "metadata": {
    "colab": {
      "name": "09 adagrad.ipynb",
      "version": "0.3.2",
      "provenance": [],
      "include_colab_link": true
    },
    "kernelspec": {
      "name": "python3",
      "display_name": "Python 3"
    },
    "accelerator": "GPU"
  },
  "cells": [
    {
      "cell_type": "markdown",
      "metadata": {
        "id": "view-in-github",
        "colab_type": "text"
      },
      "source": [
        "<a href=\"https://colab.research.google.com/github/Xinsen-Zhang/torch-study/blob/master/09_adagrad.ipynb\" target=\"_parent\"><img src=\"https://colab.research.google.com/assets/colab-badge.svg\" alt=\"Open In Colab\"/></a>"
      ]
    },
    {
      "metadata": {
        "id": "RE6qBJkHHvfa",
        "colab_type": "text"
      },
      "cell_type": "markdown",
      "source": [
        "# Adagrad"
      ]
    },
    {
      "metadata": {
        "id": "0bGaC6sZH2fZ",
        "colab_type": "code",
        "colab": {}
      },
      "cell_type": "code",
      "source": [
        "def sgd_adagrad(parameters, sqrs, lr):\n",
        "    eps = 1e-10\n",
        "    for param, sqr in zip(parameters, sqrs):\n",
        "        sqr[:] = sqr + param.grad.data ** 2\n",
        "        div = lr / torch.sqrt(sqr + eps) * param.grad.data\n",
        "        param.data = param.data - div"
      ],
      "execution_count": 0,
      "outputs": []
    },
    {
      "metadata": {
        "id": "swTuaBVcIZ3e",
        "colab_type": "text"
      },
      "cell_type": "markdown",
      "source": [
        "# 倒包"
      ]
    },
    {
      "metadata": {
        "id": "RHZiH5iMIcVW",
        "colab_type": "code",
        "colab": {}
      },
      "cell_type": "code",
      "source": [
        "import numpy as np\n",
        "import torch\n",
        "from torchvision.datasets import MNIST\n",
        "from torch.utils.data import DataLoader\n",
        "from torch import nn\n",
        "from torch.autograd import Variable\n",
        "import time\n",
        "from matplotlib import pyplot as plt\n",
        "from torch.nn import init\n",
        "%matplotlib inline\n",
        "\n",
        "def data_tf(x):\n",
        "    x = np.array(x, dtype= 'float32') / 255\n",
        "    x = (x- 0.5) / 0.5\n",
        "    x = x.reshape((-1,))\n",
        "    x = torch.from_numpy(x)\n",
        "    return x\n",
        "\n",
        "train_set = MNIST('./data', train= True, transform= data_tf, download= True)\n",
        "test_set = MNIST('./data', train= False, transform= data_tf, download= True)\n",
        "\n",
        "# 定义loss\n",
        "criterion = torch.nn.CrossEntropyLoss()"
      ],
      "execution_count": 0,
      "outputs": []
    },
    {
      "metadata": {
        "id": "HWgyI_G7JOwP",
        "colab_type": "code",
        "colab": {
          "base_uri": "https://localhost:8080/",
          "height": 202
        },
        "outputId": "aa2d6b34-ee6f-4f95-8b46-c818ebbe11ec"
      },
      "cell_type": "code",
      "source": [
        "train_data = DataLoader(train_set, batch_size= 64, shuffle= True)\n",
        "# 使用Sequential定义三层网络\n",
        "net = nn.Sequential(\n",
        "    nn.Linear(784, 200),\n",
        "    nn.ReLU(),\n",
        "    nn.Linear(200, 10),\n",
        ")\n",
        "\n",
        "# 使用Xavier初始化\n",
        "for layer in net:\n",
        "    if(isinstance(layer, nn.Linear)):\n",
        "        init.xavier_uniform_(layer.weight)\n",
        "\n",
        "# 将网络初始化到GPU上   \n",
        "net.cuda()\n",
        "\n",
        "# 初始化梯度平方\n",
        "sqrs = []\n",
        "for param in net.parameters():\n",
        "    sqrs.append(torch.zeros_like(param.data).cuda())\n",
        "    \n",
        "# 开始训练\n",
        "losses = []\n",
        "idx = 0\n",
        "start = time.time()\n",
        "for e in range(10): #训练10个epoch\n",
        "    train_loss = 0\n",
        "    for im, label in train_data:\n",
        "        im = Variable(im.float()).cuda()\n",
        "        label = Variable(label).cuda()\n",
        "        # 前向传播\n",
        "        out = net(im)\n",
        "        loss = criterion(out, label)\n",
        "        \n",
        "        # 反向传播\n",
        "        net.zero_grad()\n",
        "        loss.backward()\n",
        "        sgd_adagrad(net.parameters(), sqrs, 1e-2)\n",
        "        # 记录误差\n",
        "        train_loss += loss.data\n",
        "        if (idx % 50 == 0):\n",
        "            losses.append(loss.data)\n",
        "        idx += 1\n",
        "    print('epoch: {}, Train loss: {:.6f}'.format(e + 1, train_loss / len(train_set)))\n",
        "end = time.time()\n",
        "duration = end - start\n",
        "print('使用时间: {:.5f} s'.format(duration))"
      ],
      "execution_count": 14,
      "outputs": [
        {
          "output_type": "stream",
          "text": [
            "epoch: 1, Train loss: 0.006799\n",
            "epoch: 2, Train loss: 0.003757\n",
            "epoch: 3, Train loss: 0.003115\n",
            "epoch: 4, Train loss: 0.002739\n",
            "epoch: 5, Train loss: 0.002470\n",
            "epoch: 6, Train loss: 0.002270\n",
            "epoch: 7, Train loss: 0.002115\n",
            "epoch: 8, Train loss: 0.001986\n",
            "epoch: 9, Train loss: 0.001887\n",
            "epoch: 10, Train loss: 0.001791\n",
            "使用时间: 80.04527 s\n"
          ],
          "name": "stdout"
        }
      ]
    },
    {
      "metadata": {
        "id": "Nscn75w8JYpE",
        "colab_type": "code",
        "colab": {
          "base_uri": "https://localhost:8080/",
          "height": 282
        },
        "outputId": "bd6475e1-9292-4cda-fafe-3e524e017057"
      },
      "cell_type": "code",
      "source": [
        "x_axis = np.linspace(0, 10, len(losses), endpoint= True)\n",
        "plt.semilogy(x_axis, losses, label= 'adgrad')\n",
        "plt.legend(loc='best')"
      ],
      "execution_count": 16,
      "outputs": [
        {
          "output_type": "execute_result",
          "data": {
            "text/plain": [
              "<matplotlib.legend.Legend at 0x7f8e6ce92710>"
            ]
          },
          "metadata": {
            "tags": []
          },
          "execution_count": 16
        },
        {
          "output_type": "display_data",
          "data": {
            "image/png": "[encoded data removed]",
            "text/plain": [
              "<Figure size 432x288 with 1 Axes>"
            ]
          },
          "metadata": {
            "tags": []
          }
        }
      ]
    },
    {
      "metadata": {
        "id": "foUHwrC2MIhc",
        "colab_type": "text"
      },
      "cell_type": "markdown",
      "source": [
        "# 使用内置的adamgrad优化器"
      ]
    },
    {
      "metadata": {
        "id": "iptEpzfvMXCJ",
        "colab_type": "code",
        "colab": {
          "base_uri": "https://localhost:8080/",
          "height": 202
        },
        "outputId": "a9a549ed-ae77-403c-efbb-48956cc9e204"
      },
      "cell_type": "code",
      "source": [
        "train_data = DataLoader(train_set, batch_size= 64, shuffle= True)\n",
        "# 使用Sequential定义三层网络\n",
        "net = nn.Sequential(\n",
        "    nn.Linear(784, 200),\n",
        "    nn.ReLU(),\n",
        "    nn.Linear(200, 10),\n",
        ")\n",
        "\n",
        "# 使用Xavier初始化\n",
        "for layer in net:\n",
        "    if(isinstance(layer, nn.Linear)):\n",
        "        init.xavier_uniform_(layer.weight)\n",
        "\n",
        "# 将网络初始化到GPU上   \n",
        "net.cuda()\n",
        "\n",
        "# 定义优化器\n",
        "optimizer = torch.optim.Adagrad(net.parameters(), lr = 1e-2)\n",
        "\n",
        "# 开始训练\n",
        "losses1 = []\n",
        "idx = 0\n",
        "start = time.time()\n",
        "for e in range(10): #训练10个epoch\n",
        "    train_loss = 0\n",
        "    for im, label in train_data:\n",
        "        im = Variable(im.float()).cuda()\n",
        "        label = Variable(label).cuda()\n",
        "        # 前向传播\n",
        "        out = net(im)\n",
        "        loss = criterion(out, label)\n",
        "        \n",
        "        # 反向传播\n",
        "        optimizer.zero_grad()\n",
        "        loss.backward()\n",
        "        optimizer.step()\n",
        "        \n",
        "        # 记录误差\n",
        "        train_loss += loss.data\n",
        "        if (idx % 50 == 0):\n",
        "            losses1.append(loss.data)\n",
        "        idx += 1\n",
        "    print('epoch: {}, Train loss: {:.6f}'.format(e + 1, train_loss / len(train_set)))\n",
        "end = time.time()\n",
        "duration = end - start\n",
        "print('使用时间: {:.5f} s'.format(duration))"
      ],
      "execution_count": 17,
      "outputs": [
        {
          "output_type": "stream",
          "text": [
            "epoch: 1, Train loss: 0.006630\n",
            "epoch: 2, Train loss: 0.003583\n",
            "epoch: 3, Train loss: 0.002985\n",
            "epoch: 4, Train loss: 0.002629\n",
            "epoch: 5, Train loss: 0.002378\n",
            "epoch: 6, Train loss: 0.002200\n",
            "epoch: 7, Train loss: 0.002041\n",
            "epoch: 8, Train loss: 0.001918\n",
            "epoch: 9, Train loss: 0.001815\n",
            "epoch: 10, Train loss: 0.001728\n",
            "使用时间: 68.11486 s\n"
          ],
          "name": "stdout"
        }
      ]
    },
    {
      "metadata": {
        "id": "OapeRTy6M2Sz",
        "colab_type": "code",
        "colab": {
          "base_uri": "https://localhost:8080/",
          "height": 282
        },
        "outputId": "a96203fd-7231-482c-e384-76b298b34159"
      },
      "cell_type": "code",
      "source": [
        "x_axis = np.linspace(0, 10, len(losses1), endpoint= True)\n",
        "plt.plot(x_axis, losses1, label= 'adagrad')"
      ],
      "execution_count": 18,
      "outputs": [
        {
          "output_type": "execute_result",
          "data": {
            "text/plain": [
              "[<matplotlib.lines.Line2D at 0x7f8e69497ba8>]"
            ]
          },
          "metadata": {
            "tags": []
          },
          "execution_count": 18
        },
        {
          "output_type": "display_data",
          "data": {
            "image/png": "[encoded data removed]",
            "text/plain": [
              "<Figure size 432x288 with 1 Axes>"
            ]
          },
          "metadata": {
            "tags": []
          }
        }
      ]
    },
    {
      "metadata": {
        "id": "T3STtZ5dNYa4",
        "colab_type": "code",
        "colab": {}
      },
      "cell_type": "code",
      "source": [
        ""
      ],
      "execution_count": 0,
      "outputs": []
    }
  ]
}